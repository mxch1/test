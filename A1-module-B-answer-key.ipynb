{
 "cells": [
  {
   "cell_type": "markdown",
   "metadata": {},
   "source": [
    "# Assignment group 1: Textual feature extraction and numerical comparison"
   ]
  },
  {
   "cell_type": "markdown",
   "metadata": {},
   "source": [
    "## Module B _(35 points)_ Key word in context\n",
    "\n",
    "Key word in context (KWiC) is a common format for concordance lines, i.e., contextualized instances of principal words used in a book. More generally, KWiC is essentially the concept behind the utility of 'find in page' on document viewers and web browsers. This module builds up a KWiC utility for finding key word-containing sentences, and 'most relevant' paragraphs, quickly.\n",
    "\n",
    "__B1.__ _(3 points)_ Initialize `spacy`'s English model and write a function called `load_book(book_id)`, which reads a book of specified number (as a string, `book_id`) and executes a regular expressiion to `re.split()` the loaded `book` (a string) into a list of `paragraphs` (strings). \n",
    "\n",
    "Test your code on `book_id = '84'`, and print the number of paragraphs in the resulting output.\n",
    "\n",
    "Note: this module is not focused on text pre-processing beyond a split into paragraphs; you are only required to determine a _reasonable_ split criterion, and _not_ to remove markup or non-substantive content."
   ]
  },
  {
   "cell_type": "code",
   "execution_count": 1,
   "metadata": {},
   "outputs": [
    {
     "name": "stderr",
     "output_type": "stream",
     "text": [
      "/usr/local/Cellar/python/3.7.0/Frameworks/Python.framework/Versions/3.7/lib/python3.7/importlib/_bootstrap.py:219: RuntimeWarning: numpy.dtype size changed, may indicate binary incompatibility. Expected 96, got 88\n",
      "  return f(*args, **kwds)\n",
      "/usr/local/Cellar/python/3.7.0/Frameworks/Python.framework/Versions/3.7/lib/python3.7/importlib/_bootstrap.py:219: RuntimeWarning: numpy.ufunc size changed, may indicate binary incompatibility. Expected 192, got 176\n",
      "  return f(*args, **kwds)\n",
      "/usr/local/Cellar/python/3.7.0/Frameworks/Python.framework/Versions/3.7/lib/python3.7/importlib/_bootstrap.py:219: RuntimeWarning: numpy.dtype size changed, may indicate binary incompatibility. Expected 96, got 88\n",
      "  return f(*args, **kwds)\n",
      "/usr/local/Cellar/python/3.7.0/Frameworks/Python.framework/Versions/3.7/lib/python3.7/importlib/_bootstrap.py:219: RuntimeWarning: numpy.ufunc size changed, may indicate binary incompatibility. Expected 192, got 176\n",
      "  return f(*args, **kwds)\n"
     ]
    },
    {
     "name": "stdout",
     "output_type": "stream",
     "text": [
      "723\n"
     ]
    }
   ],
   "source": [
    "from collections import defaultdict\n",
    "import spacy, json, re\n",
    "\n",
    "nlp = spacy.load(\"en\")\n",
    "\n",
    "def load_book(book_id):\n",
    "    ## load the book\n",
    "    with open(\"./data/books/\"+book_id+\".txt\") as f:\n",
    "        book = f.read().strip()\n",
    "        \n",
    "    paragraphs = re.split(\"\\n\\n+\", book)\n",
    "    \n",
    "    return paragraphs\n",
    "\n",
    "paragraphs = load_book('84')\n",
    "print(len(paragraphs))"
   ]
  },
  {
   "cell_type": "markdown",
   "metadata": {},
   "source": [
    "__B2.__ _(10 points)_ Write a function called `kwic(paragraphs, search_terms)` that accepts a list of string `paragraphs` and a set of `search_term` strings. The function should:\n",
    "\n",
    "1. initialize `data` as a `defaultdict` of lists\n",
    "2. loop over the `paragraphs` and apply `spacy`'s processing to produce a `doc` for each;\n",
    "3. loop over the `doc.sents` resulting from each `paragraph`;\n",
    "4. loop over the words in each `sentence`;\n",
    "5. check: `if` a `word` is `in` the `search_terms` set;\n",
    "6. `if` (5), then `.append()` the reference under `data[word]` as a list: `[[i, j, k], sentence]`,\n",
    "\n",
    "where `i`, `j`, and `k` refer to the paragraph-in-book, sentence-in-paragraph, and word-in-sentence indices, respectively.\n",
    "\n",
    "Your output, `data`, should then be a default dictionary of lists of the format:\n",
    "```\n",
    "data['word'] = [[[i, j, k], [\"These\", \"are\", \"sentences\", \"containing\", \"the\", \"word\", \"'word'\", \".\"]],\n",
    "                ...,]\n",
    "```"
   ]
  },
  {
   "cell_type": "code",
   "execution_count": 2,
   "metadata": {},
   "outputs": [],
   "source": [
    "def kwic(paragraphs, search_terms = {}):\n",
    "    \n",
    "    ## set up the kwic data we're storing\n",
    "    data = defaultdict(list)\n",
    "\n",
    "    for i, paragraph in enumerate(paragraphs):\n",
    "        \n",
    "        ## run NLP on the paragraph\n",
    "        doc = nlp(paragraph)\n",
    "\n",
    "        ## loop over sentences\n",
    "        for j, sentence in enumerate(doc.sents):\n",
    "            ## loop over words in sentences\n",
    "            for k, word in enumerate(sentence):\n",
    "                ## check if word is a match\n",
    "                if word.text in search_terms:\n",
    "                    ## store with index in the data\n",
    "                    data[word.text].append([[i, j,  k], [x.text for x in sentence]])\n",
    "            \n",
    "    return(data)"
   ]
  },
  {
   "cell_type": "markdown",
   "metadata": {},
   "source": [
    "__B3.__ _(2 points)_ Prove your `kwic` search function's utility using the pre-processed paragraphs from book `84` and __B1__. Exhibit examples of the key words `Frankenstein` and `monster` in context and and comment on the run time of this program and explain why it runs so darn slow, and in particular would not support repeated queries. Note: if you think it doesn't, then just confirm `kwic`'sfunction, and proceed to part __B5__. You can comment here after completing the module."
   ]
  },
  {
   "cell_type": "markdown",
   "metadata": {},
   "source": [
    "_Response._ We have to wait for the process to search through the entire document, one word at a time every time we call it. While can provide batches of key words to 'capture' results all at once, but if we want to come back and search for _another_ word after, e.g., having some motivation from seeing previous output, we'll have to wait just as long again, all over. Pre-processing an index would help _a lot_."
   ]
  },
  {
   "cell_type": "code",
   "execution_count": 3,
   "metadata": {},
   "outputs": [],
   "source": [
    "results = kwic(paragraphs, {\"Frankenstein\", \"monster\"})"
   ]
  },
  {
   "cell_type": "code",
   "execution_count": 4,
   "metadata": {},
   "outputs": [
    {
     "name": "stdout",
     "output_type": "stream",
     "text": [
      "27 31\n"
     ]
    }
   ],
   "source": [
    "print(len(results['Frankenstein']), len(results['monster']))"
   ]
  },
  {
   "cell_type": "code",
   "execution_count": 5,
   "metadata": {},
   "outputs": [
    {
     "name": "stdout",
     "output_type": "stream",
     "text": [
      "She nursed Madame \n",
      " Frankenstein , my aunt , in her last illness , with the greatest affection \n",
      " and care and afterwards attended her own mother during a tedious \n",
      " illness , in a manner that excited the admiration of all who knew her , \n",
      " after which she again lived in my uncle 's house , where she was beloved \n",
      " by all the family .  \n",
      "\n",
      "I started from my sleep with horror ; a cold dew covered my forehead , my \n",
      " teeth chattered , and every limb became convulsed ; when , by the dim and \n",
      " yellow light of the moon , as it forced its way through the window \n",
      " shutters , I beheld the wretch -- the miserable monster whom I had \n",
      " created .  \n"
     ]
    }
   ],
   "source": [
    "print(\" \".join(results['Frankenstein'][7][1]))\n",
    "print()\n",
    "print(\" \".join(results['monster'][0][1]))"
   ]
  },
  {
   "cell_type": "markdown",
   "metadata": {},
   "source": [
    "__B4.__ _(10 pts)_ The cost of _indexing_ a given book turns out to be the limiting factor here in the process. Presently, we have our pre-processing `load_book` function just splitting a document into paragraphs. This function should be modified not only to:\n",
    "\n",
    "1. split a `book` into paragraphs and loop over them, but\n",
    "2. process each paragraph with `spacy`;\n",
    "3. store the `document` as a triple-nested list, so that each word _string_ is reachable via three indices: `word = document[i][j][k]`;\n",
    "4. record an `index = defaultdict(list)` containing a list of `[i,j,k]` lists for each word; and\n",
    "5. `return document, index`\n",
    "\n",
    "Pre-computing the `index` will allow us to efficiently look up the locations of each word's instance in `document`, and the triple-list format of our document will allow us fast access to extract the sentence for KWiC. Exhibit this modified version of `load_book`'s function on `book_id = '84'` and print out the `[i,j,k]` locations of the word `'monster'` from `index`."
   ]
  },
  {
   "cell_type": "code",
   "execution_count": 6,
   "metadata": {},
   "outputs": [],
   "source": [
    "def load_book(book_id):\n",
    "    ## load the book\n",
    "    with open(\"./data/books/\"+book_id+\".txt\") as f:\n",
    "        book = f.read().strip()\n",
    "\n",
    "    ## set up the kwic index for fast access\n",
    "    ## keys are (lemma, POS)\n",
    "    ## values are lists of (i,j,k) indices: (paragraph, sentence, word)\n",
    "    index = defaultdict(list)\n",
    "        \n",
    "    paragraphs = re.split(\"\\n\\n+\", book)\n",
    "    \n",
    "    ## documents look like a triple-nested list: paragraphs/sentences/words\n",
    "    document = []\n",
    "\n",
    "    for i, paragraph in enumerate(paragraphs):\n",
    "        ## create the new paragraph\n",
    "        document.append([])\n",
    "        \n",
    "        ## run NLP on the paragraph\n",
    "        doc = nlp(paragraph)\n",
    "\n",
    "        ## loop over sentences\n",
    "        for j, sentence in enumerate(doc.sents):\n",
    "            ## create the new sentence\n",
    "            document[-1].append([])\n",
    "            \n",
    "            ## loop over words in sentences\n",
    "            for k, word in enumerate(sentence):\n",
    "                ## append the new word\n",
    "                document[-1][-1].append(word.text)\n",
    "                \n",
    "                ## store the location of this instance in the index\n",
    "                location = [i,j,k]\n",
    "                index[word.text].append(location)\n",
    "                    \n",
    "    return(document, index)"
   ]
  },
  {
   "cell_type": "code",
   "execution_count": 7,
   "metadata": {},
   "outputs": [],
   "source": [
    "document, index = load_book(\"84\")"
   ]
  },
  {
   "cell_type": "code",
   "execution_count": 8,
   "metadata": {},
   "outputs": [
    {
     "data": {
      "text/plain": [
       "[[124, 9, 57],\n",
       " [136, 3, 6],\n",
       " [139, 3, 4],\n",
       " [142, 1, 4],\n",
       " [243, 3, 29],\n",
       " [261, 3, 18],\n",
       " [280, 0, 2],\n",
       " [321, 1, 35],\n",
       " [345, 9, 6],\n",
       " [380, 13, 5],\n",
       " [397, 1, 46],\n",
       " [437, 0, 16],\n",
       " [439, 0, 3],\n",
       " [477, 7, 8],\n",
       " [478, 7, 6],\n",
       " [510, 1, 8],\n",
       " [527, 0, 1],\n",
       " [538, 19, 8],\n",
       " [560, 3, 31],\n",
       " [585, 3, 43],\n",
       " [587, 11, 72],\n",
       " [606, 3, 2],\n",
       " [615, 2, 11],\n",
       " [633, 8, 9],\n",
       " [639, 1, 21],\n",
       " [644, 4, 17],\n",
       " [653, 8, 5],\n",
       " [663, 5, 2],\n",
       " [673, 0, 39],\n",
       " [673, 1, 2],\n",
       " [709, 11, 1]]"
      ]
     },
     "execution_count": 8,
     "metadata": {},
     "output_type": "execute_result"
    }
   ],
   "source": [
    "index['monster']"
   ]
  },
  {
   "cell_type": "markdown",
   "metadata": {},
   "source": [
    "__B5.__ _(5 pts)_ Finally, make a new function called `fast_kwic(document, index, search_terms)` that loops through all specified `search_terms` to identify indices from `index[word]` for the key word-containing sentences and use them to extract these sentences from `document` into the same data structure as output by __B2__:\n",
    "```\n",
    "data['word'] = [[[i, j, k], [\"These\", \"are\", \"sentences\", \"containing\", \"the\", \"word\", \"'word'\", \".\"]],\n",
    "                ...,]\n",
    "```\n",
    "Confirm your output again by exhibiting examples of the key words `Frankenstein` and `monster` in context."
   ]
  },
  {
   "cell_type": "code",
   "execution_count": 9,
   "metadata": {},
   "outputs": [],
   "source": [
    "def fast_kwic(document, index, search_terms = {}):\n",
    "\n",
    "    ## set up the kwic data we're storing\n",
    "    data = defaultdict(list)\n",
    "    \n",
    "    for term in search_terms:\n",
    "        for i, j, k in index[term]:\n",
    "            \n",
    "            ## store the data\n",
    "            data[term].append([[i, j, k], document[i][j]])\n",
    "    \n",
    "    return(data)"
   ]
  },
  {
   "cell_type": "code",
   "execution_count": 10,
   "metadata": {},
   "outputs": [],
   "source": [
    "fast_results = fast_kwic(document, index, {'Frankenstein', 'monster'})"
   ]
  },
  {
   "cell_type": "code",
   "execution_count": 11,
   "metadata": {},
   "outputs": [
    {
     "name": "stdout",
     "output_type": "stream",
     "text": [
      "27 31\n"
     ]
    }
   ],
   "source": [
    "print(len(fast_results['Frankenstein']), len(fast_results['monster']))"
   ]
  },
  {
   "cell_type": "code",
   "execution_count": 12,
   "metadata": {},
   "outputs": [
    {
     "name": "stdout",
     "output_type": "stream",
     "text": [
      "She nursed Madame \n",
      " Frankenstein , my aunt , in her last illness , with the greatest affection \n",
      " and care and afterwards attended her own mother during a tedious \n",
      " illness , in a manner that excited the admiration of all who knew her , \n",
      " after which she again lived in my uncle 's house , where she was beloved \n",
      " by all the family .  \n",
      "\n",
      "I started from my sleep with horror ; a cold dew covered my forehead , my \n",
      " teeth chattered , and every limb became convulsed ; when , by the dim and \n",
      " yellow light of the moon , as it forced its way through the window \n",
      " shutters , I beheld the wretch -- the miserable monster whom I had \n",
      " created .  \n"
     ]
    }
   ],
   "source": [
    "print(\" \".join(fast_results['Frankenstein'][7][1]))\n",
    "print()\n",
    "print(\" \".join(fast_results['monster'][0][1]))"
   ]
  },
  {
   "cell_type": "markdown",
   "metadata": {},
   "source": [
    "__B6.__ _(5 pts)_ Your goal here is to modify the pre-processing in `load_book` one more time! Make a small modification to the input: `load_book(book_id, pos = True, lemma = True):`, to accept two boolean arguments, `pos` and `lemma` specifying how to identify each word as a key term. In particular, each word will now be represented in both of the `document` and `index` as a tuple: `heading = (text, tag)`, where `text` contains the `word.text` attribute from `spacy` if `lemma = False`, and `word.lemma_` attribute if `True`. Similarly, `tag` should be left empty as `\"\"` if `pos = False` and otherwise contain `word.pos_`. When you've completed this part, exhibit your function's utility by using its ouput in the `fast_kwic` function to search for the key terms `('cold', NOUN)` and `('cold', ADJ)`.\n",
    "\n",
    "Note this functions output should still consist of a `document` and `index` in the same format aside from the replacement of `word` with `heading`, which will allow for the same use of output in `fast_kwic`, although more specified by the textual features."
   ]
  },
  {
   "cell_type": "code",
   "execution_count": 13,
   "metadata": {},
   "outputs": [],
   "source": [
    "def load_book(book_id, pos = True, lemma = True):\n",
    "    ## load the book\n",
    "    with open(\"./data/books/\"+book_id+\".txt\") as f:\n",
    "        book = f.read().strip()\n",
    "\n",
    "    ## set up the kwic index for fast access\n",
    "    ## keys are (lemma, POS)\n",
    "    ## values are lists of (i,j,k) indices: (paragraph, sentence, word)\n",
    "    index = defaultdict(list)\n",
    "        \n",
    "    paragraphs = re.split(\"\\n\\n+\", book)\n",
    "    \n",
    "    ## documents look like a triple-nested list: paragraphs/sentences/words\n",
    "    document = []\n",
    "\n",
    "    for i, paragraph in enumerate(paragraphs):\n",
    "        ## create the new paragraph\n",
    "        document.append([])\n",
    "        \n",
    "        ## run NLP on the paragraph\n",
    "        doc = nlp(paragraph)\n",
    "\n",
    "        ## loop over sentences\n",
    "        for j, sentence in enumerate(doc.sents):\n",
    "            ## create the new sentence\n",
    "            document[-1].append([])\n",
    "            \n",
    "            ## loop over words in sentences\n",
    "            for k, word in enumerate(sentence):\n",
    "                ## append the new word\n",
    "                document[-1][-1].append(word.text)\n",
    "                \n",
    "                ## create the heading for this entry\n",
    "                heading = (word.lemma_ if lemma else word.text, \n",
    "                           word.pos_ if pos else \"\")\n",
    "                \n",
    "                ## store the location of this instance in the index\n",
    "                location = [i,j,k]\n",
    "                index[heading].append(location)\n",
    "                    \n",
    "    return(document, index)"
   ]
  },
  {
   "cell_type": "code",
   "execution_count": 14,
   "metadata": {},
   "outputs": [],
   "source": [
    "document, index = load_book(\"84\", pos = True, lemma = True)"
   ]
  },
  {
   "cell_type": "code",
   "execution_count": 15,
   "metadata": {},
   "outputs": [
    {
     "data": {
      "text/plain": [
       "'The \\n cold is not excessive , if you are wrapped in furs -- a dress which I have \\n already adopted , for there is a great difference between walking the \\n deck and remaining seated motionless for hours , when no exercise \\n prevents the blood from actually freezing in your veins .  '"
      ]
     },
     "execution_count": 15,
     "metadata": {},
     "output_type": "execute_result"
    }
   ],
   "source": [
    "\" \".join(fast_kwic(document, index, search_terms = {('cold', 'NOUN')})[('cold', 'NOUN')][0][1])"
   ]
  },
  {
   "cell_type": "code",
   "execution_count": 16,
   "metadata": {},
   "outputs": [
    {
     "data": {
      "text/plain": [
       "'I am already far north of London , and as I walk in the streets of \\n Petersburgh , I feel a cold northern breeze play upon my cheeks , which \\n braces my nerves and fills me with delight .  '"
      ]
     },
     "execution_count": 16,
     "metadata": {},
     "output_type": "execute_result"
    }
   ],
   "source": [
    "\" \".join(fast_kwic(document, index, search_terms = {('cold', 'ADJ')})[('cold', 'ADJ')][0][1])"
   ]
  }
 ],
 "metadata": {
  "kernelspec": {
   "display_name": "Python 3",
   "language": "python",
   "name": "python3"
  },
  "language_info": {
   "codemirror_mode": {
    "name": "ipython",
    "version": 3
   },
   "file_extension": ".py",
   "mimetype": "text/x-python",
   "name": "python",
   "nbconvert_exporter": "python",
   "pygments_lexer": "ipython3",
   "version": "3.7.0"
  }
 },
 "nbformat": 4,
 "nbformat_minor": 2
}
